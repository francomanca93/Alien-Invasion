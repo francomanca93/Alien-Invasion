{
  "nbformat": 4,
  "nbformat_minor": 0,
  "metadata": {
    "colab": {
      "name": "5. Visualización de datos usando Python.ipynb",
      "provenance": [],
      "collapsed_sections": [],
      "toc_visible": true,
      "authorship_tag": "ABX9TyM5bWTn6np00a6ylrF6yaqw",
      "include_colab_link": true
    },
    "kernelspec": {
      "name": "python3",
      "display_name": "Python 3"
    }
  },
  "cells": [
    {
      "cell_type": "markdown",
      "metadata": {
        "id": "view-in-github",
        "colab_type": "text"
      },
      "source": [
        "<a href=\"https://colab.research.google.com/github/francomanca93/Alien-Invasion/blob/master/2.%20Caracterizar%20informaci%C3%B3n%20a%20traves%20del%20an%C3%A1lisis%20exploratorio/5_Visualizaci%C3%B3n_de_datos_usando_Python.ipynb\" target=\"_parent\"><img src=\"https://colab.research.google.com/assets/colab-badge.svg\" alt=\"Open In Colab\"/></a>"
      ]
    },
    {
      "cell_type": "markdown",
      "metadata": {
        "id": "x0vgFGls-yPW",
        "colab_type": "text"
      },
      "source": [
        "# Visualización de datos usando Python"
      ]
    },
    {
      "cell_type": "markdown",
      "metadata": {
        "id": "DDxom1ZJnIzL",
        "colab_type": "text"
      },
      "source": [
        "Montamos drive para acceder a la base de datos con la cual vamos a trabajar"
      ]
    },
    {
      "cell_type": "code",
      "metadata": {
        "id": "2MXjszLnmc__",
        "colab_type": "code",
        "colab": {
          "base_uri": "https://localhost:8080/",
          "height": 54
        },
        "outputId": "388ed94a-b63c-4f72-938a-1d9c2cd7129e"
      },
      "source": [
        "#Montamos Drive\n",
        "from google.colab import drive\n",
        "drive.mount('/content/drive')"
      ],
      "execution_count": 27,
      "outputs": [
        {
          "output_type": "stream",
          "text": [
            "Drive already mounted at /content/drive; to attempt to forcibly remount, call drive.mount(\"/content/drive\", force_remount=True).\n"
          ],
          "name": "stdout"
        }
      ]
    },
    {
      "cell_type": "code",
      "metadata": {
        "id": "n8qcx87yA9x-",
        "colab_type": "code",
        "colab": {}
      },
      "source": [
        "import numpy as np\n",
        "import pandas as pd\n",
        "import scipy.stats\n",
        "\n",
        "import matplotlib.pyplot as plt\n",
        "import seaborn as sns\n",
        "\n",
        "%matplotlib inline"
      ],
      "execution_count": 28,
      "outputs": []
    },
    {
      "cell_type": "code",
      "metadata": {
        "id": "zg47_or0mtlO",
        "colab_type": "code",
        "colab": {
          "base_uri": "https://localhost:8080/",
          "height": 34
        },
        "outputId": "36a92467-e4c8-4892-8a3f-8b520c28251d"
      },
      "source": [
        "ls '/content/drive/My Drive/Colab Notebooks/fundamentos-de-estadistica-con-python/datos/'"
      ],
      "execution_count": 29,
      "outputs": [
        {
          "output_type": "stream",
          "text": [
            "bicicletas-compartidas.csv  datos_profesora.py  \u001b[0m\u001b[01;34m__pycache__\u001b[0m/\n"
          ],
          "name": "stdout"
        }
      ]
    },
    {
      "cell_type": "code",
      "metadata": {
        "id": "qJcu0-okm2lr",
        "colab_type": "code",
        "colab": {
          "base_uri": "https://localhost:8080/",
          "height": 34
        },
        "outputId": "c147e43e-70c4-4954-867e-1d135a7cd156"
      },
      "source": [
        "cd '/content/drive/My Drive/Colab Notebooks/fundamentos-de-estadistica-con-python/datos/'"
      ],
      "execution_count": 30,
      "outputs": [
        {
          "output_type": "stream",
          "text": [
            "/content/drive/My Drive/Colab Notebooks/fundamentos-de-estadistica-con-python/datos\n"
          ],
          "name": "stdout"
        }
      ]
    },
    {
      "cell_type": "code",
      "metadata": {
        "id": "aNgFyWAbm39k",
        "colab_type": "code",
        "colab": {}
      },
      "source": [
        "df = pd.read_csv('bicicletas-compartidas.csv')"
      ],
      "execution_count": 31,
      "outputs": []
    },
    {
      "cell_type": "markdown",
      "metadata": {
        "id": "u16tbSU1DdZX",
        "colab_type": "text"
      },
      "source": [
        "## Variables categóricas"
      ]
    },
    {
      "cell_type": "code",
      "metadata": {
        "id": "JGIqqi1cDi1k",
        "colab_type": "code",
        "colab": {
          "base_uri": "https://localhost:8080/",
          "height": 69
        },
        "outputId": "159227f4-e371-4f6f-8fb2-1aa7e67e7bcc"
      },
      "source": [
        "df.columns"
      ],
      "execution_count": 32,
      "outputs": [
        {
          "output_type": "execute_result",
          "data": {
            "text/plain": [
              "Index(['fecha', 'bicis-compartidas', 'temp-obs', 'sens-temp', 'hum', 'viento',\n",
              "       'codigo-clima', 'festivo', 'findesemana', 'cuartil-ano'],\n",
              "      dtype='object')"
            ]
          },
          "metadata": {
            "tags": []
          },
          "execution_count": 32
        }
      ]
    },
    {
      "cell_type": "code",
      "metadata": {
        "id": "wM4pcmaPDalk",
        "colab_type": "code",
        "colab": {}
      },
      "source": [
        "y = df['cuartil-ano'].apply(lambda x: 'cuartil-' + str(int(x)))"
      ],
      "execution_count": 52,
      "outputs": []
    },
    {
      "cell_type": "markdown",
      "metadata": {
        "id": "64ja4J0JNrDh",
        "colab_type": "text"
      },
      "source": [
        "### Grafico de barra\n",
        "\n",
        "Un [diagrama de barras](https://es.wikipedia.org/wiki/Diagrama_de_barras), también conocido como gráfico de barras o gráfico de columnas, es una forma de representar gráficamente un conjunto de datos o valores mediante barras rectangulares de longitud proporcional a los valores representados. Los gráficos de barras pueden ser usados para comparar cantidades de una variable en diferentes momentos o diferentes variables para el mismo momento. Las barras pueden orientarse horizontal y verticalmente. "
      ]
    },
    {
      "cell_type": "code",
      "metadata": {
        "id": "CNoMqNSpDmPv",
        "colab_type": "code",
        "colab": {
          "base_uri": "https://localhost:8080/",
          "height": 279
        },
        "outputId": "8bca292d-b9a3-47e5-94be-4093e509ef97"
      },
      "source": [
        "fig, ax = plt.subplots()\n",
        "ax.bar(y.value_counts().index, y.value_counts())\n",
        "ax.set_xlabel('Cuartiles del año')\n",
        "ax.set_ylabel('Frecuencia')\n",
        "plt.show()"
      ],
      "execution_count": 54,
      "outputs": [
        {
          "output_type": "display_data",
          "data": {
            "image/png": "[encoded data removed]",
            "text/plain": [
              "<Figure size 432x288 with 1 Axes>"
            ]
          },
          "metadata": {
            "tags": [],
            "needs_background": "light"
          }
        }
      ]
    },
    {
      "cell_type": "code",
      "metadata": {
        "id": "4GZlxQNyEUFc",
        "colab_type": "code",
        "colab": {
          "base_uri": "https://localhost:8080/",
          "height": 279
        },
        "outputId": "772c3378-6087-40f7-fd3b-04c2126bb2c2"
      },
      "source": [
        "fig, ax = plt.subplots()\n",
        "ax.bar(y.value_counts().index, y.value_counts())\n",
        "ax.set_xlabel('Cuartiles del año')\n",
        "ax.set_ylabel('Frecuencia')\n",
        "ax.patches[2].set_facecolor('red')\n",
        "plt.show()"
      ],
      "execution_count": 55,
      "outputs": [
        {
          "output_type": "display_data",
          "data": {
            "image/png": "[encoded data removed]",
            "text/plain": [
              "<Figure size 432x288 with 1 Axes>"
            ]
          },
          "metadata": {
            "tags": [],
            "needs_background": "light"
          }
        }
      ]
    },
    {
      "cell_type": "markdown",
      "metadata": {
        "id": "fsxR3vV9N150",
        "colab_type": "text"
      },
      "source": [
        "### Grafico circular\n",
        "\n",
        "Un [gráfico circular](https://es.wikipedia.org/wiki/Gr%C3%A1fico_circular) o gráfica circular, también llamado \"gráfico de pastel\", \"gráfico de tarta\", \"gráfico de torta\" o \"gráfica de 360 grados\", se utiliza para representar porcentajes y proporciones. El número de elementos comparados dentro de una gráfica circular suele ser de más de cuatro. "
      ]
    },
    {
      "cell_type": "code",
      "metadata": {
        "id": "SicLWJNIFz_9",
        "colab_type": "code",
        "colab": {
          "base_uri": "https://localhost:8080/",
          "height": 264
        },
        "outputId": "ae210659-42c8-4686-aef7-c3d972b6a98e"
      },
      "source": [
        "fig, ax = plt.subplots()\n",
        "ax.pie(y.value_counts(), labels=y.value_counts().index)\n",
        "ax.set_title('Diagrama de torta o pie')\n",
        "plt.show()"
      ],
      "execution_count": 56,
      "outputs": [
        {
          "output_type": "display_data",
          "data": {
            "image/png": "[encoded data removed]",
            "text/plain": [
              "<Figure size 432x288 with 1 Axes>"
            ]
          },
          "metadata": {
            "tags": []
          }
        }
      ]
    },
    {
      "cell_type": "markdown",
      "metadata": {
        "id": "uid_ouZeG8bl",
        "colab_type": "text"
      },
      "source": [
        "## Variables numericas"
      ]
    },
    {
      "cell_type": "markdown",
      "metadata": {
        "id": "XnoWGG_5OXAW",
        "colab_type": "text"
      },
      "source": [
        "### Histograma\n",
        "\n",
        "Un [histograma](https://es.wikipedia.org/wiki/Histograma) es una representación gráfica de una variable en forma de barras, donde la superficie de cada barra es proporcional a la frecuencia de los valores representados. Sirven para obtener una \"primera vista\" general, o panorama, de la distribución de la población, o de la muestra, respecto a una característica, cuantitativa y continua (como la longitud o el peso).\n",
        "\n",
        "Se utilizan para relacionar variables cuantitativas continuas. Para variables cuantitativas discretas las barras se dibujan separadas y el gráfico se llama diagrama de frecuencias, porque la variable representada en el eje horizontal ya no representa un espectro continuo de valores, sino valores cuantitativos específicos, igual que ocurre en un diagrama de barras, usado para representar una característica cualitativa o categórica. Su utilidad se hace más evidente cuando se cuenta con un gran número de datos cuantitativos y que se han agrupado en intervalos de clase."
      ]
    },
    {
      "cell_type": "code",
      "metadata": {
        "id": "jnfek8o7GO5u",
        "colab_type": "code",
        "colab": {}
      },
      "source": [
        "y_viento = df['viento']"
      ],
      "execution_count": 57,
      "outputs": []
    },
    {
      "cell_type": "code",
      "metadata": {
        "id": "cFnFX0RVHCeR",
        "colab_type": "code",
        "colab": {
          "base_uri": "https://localhost:8080/",
          "height": 295
        },
        "outputId": "07a39e6c-cea3-4b1b-9281-4e2bdc259709"
      },
      "source": [
        "fig, ax = plt.subplots()\n",
        "ax.hist(y_viento, bins=30)\n",
        "ax.set_xlabel('Viento')\n",
        "ax.set_ylabel('Frecuencias')\n",
        "\n",
        "plt.axvline(np.mean(y_viento), c='r', linestyle='--', label='Promedio')\n",
        "\n",
        "plt.axvline(np.mean(y_viento) + np.std(y_viento), c='k', linestyle='-.', label='+ 1-Desviacion')\n",
        "plt.axvline(np.mean(y_viento) - np.std(y_viento), c='k', linestyle='-.', label='- 1-Desviacion')\n",
        "\n",
        "plt.axvline(np.mean(y_viento) + 2*np.std(y_viento), c='g', linestyle='-.', label='+ 2-Desviacion')\n",
        "plt.axvline(np.mean(y_viento) - 2*np.std(y_viento), c='g', linestyle='-.', label='- 2-Desviacion')\n",
        "\n",
        "ax.set_title('Histograma de la variable viento')\n",
        "ax.grid(color='gray', linestyle='--', linewidth=0.5)\n",
        "ax.legend(loc='best')\n",
        "plt.show()"
      ],
      "execution_count": 58,
      "outputs": [
        {
          "output_type": "display_data",
          "data": {
            "image/png": "[encoded data removed]",
            "text/plain": [
              "<Figure size 432x288 with 1 Axes>"
            ]
          },
          "metadata": {
            "tags": [],
            "needs_background": "light"
          }
        }
      ]
    }
  ]
}